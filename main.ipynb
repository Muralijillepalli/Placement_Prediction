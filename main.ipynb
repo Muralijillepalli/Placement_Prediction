{
 "cells": [
  {
   "cell_type": "code",
   "execution_count": 2,
   "id": "3cb99837",
   "metadata": {},
   "outputs": [
    {
     "name": "stdout",
     "output_type": "stream",
     "text": [
      " * Serving Flask app '__main__'\n",
      " * Debug mode: on\n"
     ]
    },
    {
     "name": "stderr",
     "output_type": "stream",
     "text": [
      "WARNING: This is a development server. Do not use it in a production deployment. Use a production WSGI server instead.\n",
      " * Running on http://127.0.0.1:5000\n",
      "Press CTRL+C to quit\n",
      " * Restarting with stat\n"
     ]
    },
    {
     "ename": "SystemExit",
     "evalue": "1",
     "output_type": "error",
     "traceback": [
      "An exception has occurred, use %tb to see the full traceback.\n",
      "\u001b[1;31mSystemExit\u001b[0m\u001b[1;31m:\u001b[0m 1\n"
     ]
    },
    {
     "name": "stderr",
     "output_type": "stream",
     "text": [
      "C:\\Users\\Murali\\AppData\\Local\\Programs\\Python\\Python311\\Lib\\site-packages\\IPython\\core\\interactiveshell.py:3516: UserWarning: To exit: use 'exit', 'quit', or Ctrl-D.\n",
      "  warn(\"To exit: use 'exit', 'quit', or Ctrl-D.\", stacklevel=1)\n"
     ]
    }
   ],
   "source": [
    "from flask import Flask, request, jsonify,render_template\n",
    "import pandas as pd\n",
    "from pre_processing import pre_process_data\n",
    "import pickle\n",
    "\n",
    "app = Flask(__name__)\n",
    "placement_model1 = pickle.load(open('model.pkl', 'rb'))\n",
    "placement_model = pickle.load(open('lr_model.pkl', 'rb'))\n",
    "#Defines a route for the home page\n",
    "@app.route('/')\n",
    "def home():\n",
    "    return render_template('input.html')\n",
    "\n",
    "# Route for uploading CSV file\n",
    "@app.route('/upload', methods=['POST'])\n",
    "def upload_csv():    \n",
    "    csv_file = request.files['file']\n",
    "    if csv_file:\n",
    "        data = pd.read_csv(csv_file)\n",
    "        X_data = pre_process_data(data)            \n",
    "        response_final_lr=placement_model.predict(X_data)\n",
    "        response_final_rfc=placement_model1.predict(X_data)\n",
    "        p_status_lr='Placed' if response_final_lr[0]==1 else 'Not Placed'\n",
    "        p_status_rfc='Placed' if response_final_rfc[0]==1 else 'Not Placed'\n",
    "        return render_template('input.html',prediction_text_lr='Placement Status = {}'.format(p_status_lr),prediction_text_rfc='Placement Status = {}'.format(p_status_rfc))        \n",
    "    # else:\n",
    "    #     return jsonify({'error': 'No file uploaded'})\n",
    "\n",
    "if __name__ == '__main__':\n",
    "    app.run(debug=True)\n",
    "\n"
   ]
  },
  {
   "cell_type": "code",
   "execution_count": null,
   "id": "423cb447",
   "metadata": {},
   "outputs": [],
   "source": []
  }
 ],
 "metadata": {
  "kernelspec": {
   "display_name": "Python 3 (ipykernel)",
   "language": "python",
   "name": "python3"
  },
  "language_info": {
   "codemirror_mode": {
    "name": "ipython",
    "version": 3
   },
   "file_extension": ".py",
   "mimetype": "text/x-python",
   "name": "python",
   "nbconvert_exporter": "python",
   "pygments_lexer": "ipython3",
   "version": "3.11.3"
  }
 },
 "nbformat": 4,
 "nbformat_minor": 5
}
